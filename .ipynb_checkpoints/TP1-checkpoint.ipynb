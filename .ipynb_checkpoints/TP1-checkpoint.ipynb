{
 "cells": [
  {
   "cell_type": "code",
   "execution_count": 1,
   "id": "971aaa17",
   "metadata": {},
   "outputs": [],
   "source": [
    "import numpy as np\n",
    "import pandas as pd\n",
    "import math"
   ]
  },
  {
   "cell_type": "code",
   "execution_count": 2,
   "id": "1775d26d",
   "metadata": {
    "scrolled": true
   },
   "outputs": [],
   "source": [
    "def lerDatParaPanda(caminhoArquivo):\n",
    "    df = pd.read_csv(caminhoArquivo, \n",
    "                 sep=\",\", comment='@', header=0)\n",
    "    return df"
   ]
  },
  {
   "cell_type": "code",
   "execution_count": 3,
   "id": "59ebd8a3",
   "metadata": {},
   "outputs": [],
   "source": [
    "class Node:\n",
    "    def __init__ (self, value):\n",
    "        self.esquerda = None\n",
    "        self.data = value\n",
    "        self.direita = None"
   ]
  },
  {
   "cell_type": "code",
   "execution_count": 4,
   "id": "d7dfa109",
   "metadata": {},
   "outputs": [],
   "source": [
    "class KDtree:\n",
    "    def constroiKDtree(self, df, profundidade): # Na primeira execucao profundiade = 0\n",
    "        maxProfundidade = len(df.columns) - 1\n",
    "        quantidadeNodes = len(df)\n",
    "        if profundidade > maxProfundidade:\n",
    "            profundidade = 0\n",
    "        if (df.columns[profundidade] == 'Class'): #Ignora a coluna \"Class\", pois a mesma é a que buscamos\n",
    "            profundidade = profundidade + 1\n",
    "            if profundidade > maxProfundidade:\n",
    "                profundidade = 0 \n",
    "        #Caso base\n",
    "        if quantidadeNodes == 0:\n",
    "            return None\n",
    "        if quantidadeNodes == 1:\n",
    "            return Node(df)\n",
    "        else:\n",
    "            #Media\n",
    "            if quantidadeNodes % 2 == 0 :\n",
    "                mediana = int(quantidadeNodes / 2)\n",
    "            else :\n",
    "                mediana = int((quantidadeNodes / 2) + 0.5)\n",
    "            dfEmOrdemDeProfundidade = df.sort_values(df.columns[profundidade])\n",
    "            Ldata = Node(dfEmOrdemDeProfundidade.iloc[mediana])        \n",
    "            Ldata.esquerda = self.constroiKDtree(dfEmOrdemDeProfundidade.iloc[:mediana], profundidade + 1)\n",
    "            Ldata.direita = self.constroiKDtree(dfEmOrdemDeProfundidade.iloc[(mediana+1):],  profundidade + 1)\n",
    "            return Ldata"
   ]
  },
  {
   "cell_type": "code",
   "execution_count": 118,
   "id": "224fed25",
   "metadata": {},
   "outputs": [],
   "source": [
    "class xNN:\n",
    "    def mainNN(self, df, vizinhos):\n",
    "        df70 = df.sample(frac = 0.99) # Pega 70% dos dados aleatoriamente\n",
    "        df30 = df.sample(frac = 0.01) # Pega 30% dos dados aleatoriamente\n",
    "        tree = KDtree()\n",
    "        arvoreKd = tree.constroiKDtree(df70, 0)\n",
    "        proximos = [float('inf')] * vizinhos\n",
    "        proximosIndex = [None] * vizinhos\n",
    "        \n",
    "        df30SemClass = df30.drop(columns=['Class']).to_numpy() # 30% sem a coluna \"Class\"\n",
    "        quantidadeTotalDeTestes = len(df30SemClass)\n",
    "        indexClass = df70.columns.get_loc('Class')\n",
    "        \n",
    "        print(indexClass)\n",
    "        quantidadeTestesCorretos = 0\n",
    "        quantidadeColunas = len(df70.columns)\n",
    "        for ponto in df30SemClass:\n",
    "            distancia, Nvizinhos = self.encontraNN(arvoreKd, proximos, proximosIndex, ponto)\n",
    "            Nvizinhos = np.array(Nvizinhos)\n",
    "            #classesAtuais = vizinhos[0, indexClass]\n",
    "            #print(classesAtuais)\n",
    "            Nvizinhos = Nvizinhos.reshape(vizinhos, quantidadeColunas)\n",
    "            classesVerdadeiras = Nvizinhos[:, indexClass] \n",
    "\n",
    "            (unique, counts) = np.unique(classesVerdadeiras, return_counts=True)\n",
    "            frequencies = np.asarray((unique, counts)).T\n",
    "\n",
    "            rowClassMaxEncontrada = np.argmax(np.max(frequencies, axis=1))\n",
    "            classeNova = frequencies[rowClassMaxEncontrada][0]\n",
    "            print(classeNova)\n",
    "            return\n",
    "        return 0\n",
    "\n",
    "    def encontraNN(self, node, proximos, proximosIndex, ponto):\n",
    "        \n",
    "        if (node == None): #Checa se node esta vazio, retorna caso true\n",
    "            return\n",
    "        #elif (not self.checkNodeIsRoot(node) and self.checkDivisorMaiorQueProximos(ponto, node, proximos)): #Checa se a\n",
    "            #area feita por essa divisao já é mais distante que os NN\n",
    "           # return\n",
    "        elif (self.checkNodeIsRoot(node) and self.checkDivisorMenorQueProximos(ponto, node, proximos)):\n",
    "            self.atualizaProximos(ponto, node, proximos, proximosIndex)\n",
    "            return\n",
    "            #             self.encontraNN(node.esquerda, proximos, proximosIndex, ponto)\n",
    "            #             self.encontraNN(node.direita, proximos, proximosIndex, ponto)\n",
    "        elif(not self.checkNodeIsRoot(node)):\n",
    "            self.encontraNN(node.esquerda, proximos, proximosIndex, ponto)\n",
    "            self.encontraNN(node.direita, proximos, proximosIndex, ponto)\n",
    "        return ([proximos, proximosIndex])\n",
    "\n",
    "    def checkNodeIsRoot(self, node):\n",
    "        if (node.esquerda == None and node.direita == None and all(node.data) != None):\n",
    "            return True\n",
    "        else:\n",
    "            return False\n",
    "\n",
    "    def atualizaProximos(self, ponto, node, proximos, proximosIndex):\n",
    "        nodeSemClass = node.data.drop(columns=['Class'])\n",
    "        nodeSeries = nodeSemClass.to_numpy()\n",
    "        distancia = self.distEuclidiana(ponto, nodeSeries)\n",
    "        \n",
    "        max_value = max(proximos)\n",
    "        max_index = proximos.index(max_value)\n",
    "\n",
    "        proximos.pop(max_index);\n",
    "        proximos.insert(max_index, distancia)\n",
    "        proximosIndex[max_index] = node.data.to_numpy()\n",
    "        \n",
    "    def checkDivisorMaiorQueProximos(self, ponto, divisor, proximos):\n",
    "        divisorSemClass = divisor.data.drop(columns=['Class'])\n",
    "        divisorSeries = divisorSemClass.to_numpy()\n",
    "        distancia = self.distEuclidiana(ponto, divisorSeries)\n",
    "        if (distancia == 0):\n",
    "            return False\n",
    "        if (all(distancia >= i  for i in proximos)):\n",
    "            return True\n",
    "        else:\n",
    "            return False\n",
    "\n",
    "    def checkDivisorMenorQueProximos(self, ponto, divisor, proximos):\n",
    "        divisorSemClass = divisor.data.drop(columns=['Class'])\n",
    "        divisorSeries = divisorSemClass.to_numpy()\n",
    "        distancia = self.distEuclidiana(ponto, divisorSeries)\n",
    "        if (distancia == 0):\n",
    "            return False\n",
    "        if (any(distancia < i for i in proximos)):\n",
    "            return True\n",
    "        else:\n",
    "            return False\n",
    "\n",
    "    def distEuclidiana(self, num1, num2):\n",
    "        sum = 0;\n",
    "        if (len(num1) > 0 and len(num2) > 0):\n",
    "            num1.shape = len(num1)\n",
    "            num2.shape = len(num1)\n",
    "            for i in range(len(num1)):\n",
    "               d = num1[i] - num2[i]\n",
    "               sum = sum + d * d\n",
    "            return math.sqrt(sum)\n",
    "        else:\n",
    "            return 0\n",
    "        \n",
    "    #Debug\n",
    "    def mainPrintNotRoots(self, kdTree):\n",
    "        self.printNotRoots(kdTree)\n",
    "    def printNotRoots(self, node):\n",
    "        if (node == None):\n",
    "            return\n",
    "        if (self.checkNodeIsRoot(node)):\n",
    "            print(node.data)\n",
    "        else:\n",
    "            self.printNotRoots(node.esquerda)\n",
    "            self.printNotRoots(node.direita)"
   ]
  },
  {
   "cell_type": "code",
   "execution_count": 126,
   "id": "96d8970c",
   "metadata": {},
   "outputs": [
    {
     "name": "stdout",
     "output_type": "stream",
     "text": [
      "2\n",
      "-1.0\n"
     ]
    }
   ],
   "source": [
    "xNNPrincipal = xNN()\n",
    "encontra = np.array([-0.0145, -1.15000])\n",
    "#encontra = np.array([-2.25, -1.96])\n",
    "result = xNNPrincipal.mainNN(df1, 10)\n",
    "#print(result)\n",
    "#xNNPrincipal.mainPrintNotRoots(kdBanana)"
   ]
  },
  {
   "cell_type": "code",
   "execution_count": 6,
   "id": "959f61d7",
   "metadata": {},
   "outputs": [],
   "source": [
    "class analisaResultados:\n",
    "    def mainAnalise(df, resultados):\n",
    "        return 0\n",
    "    def acuracia(df, resultados):\n",
    "        return 1\n",
    "    def precisao(df, resultados):\n",
    "        return 2\n",
    "    def revocacao(df, resultados):\n",
    "        return 3"
   ]
  },
  {
   "cell_type": "code",
   "execution_count": 7,
   "id": "3d3e1452",
   "metadata": {},
   "outputs": [],
   "source": [
    "df1 = lerDatParaPanda('data/banana.dat')\n",
    "#df1.drop('Class', inplace=True, axis=1) # A coluna \"Class\" foi dropada pois é desnecessária\n",
    "df1 = df1.astype(np.float64)\n",
    "treeBanana = KDtree()\n",
    "kdBanana = treeBanana.constroiKDtree(df1,0)"
   ]
  },
  {
   "cell_type": "code",
   "execution_count": 8,
   "id": "fa1093bf",
   "metadata": {},
   "outputs": [
    {
     "name": "stdout",
     "output_type": "stream",
     "text": [
      "X       -0.0145\n",
      "Y       -1.1500\n",
      "Class   -1.0000\n",
      "Name: 2496, dtype: float64\n"
     ]
    }
   ],
   "source": [
    "print(kdBanana.data)"
   ]
  }
 ],
 "metadata": {
  "kernelspec": {
   "display_name": "Python 3 (ipykernel)",
   "language": "python",
   "name": "python3"
  },
  "language_info": {
   "codemirror_mode": {
    "name": "ipython",
    "version": 3
   },
   "file_extension": ".py",
   "mimetype": "text/x-python",
   "name": "python",
   "nbconvert_exporter": "python",
   "pygments_lexer": "ipython3",
   "version": "3.9.7"
  }
 },
 "nbformat": 4,
 "nbformat_minor": 5
}
