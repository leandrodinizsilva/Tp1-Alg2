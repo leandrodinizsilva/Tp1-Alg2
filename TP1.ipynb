{
 "cells": [
  {
   "cell_type": "code",
   "execution_count": 1,
   "id": "971aaa17",
   "metadata": {},
   "outputs": [],
   "source": [
    "import numpy as np\n",
    "import pandas as pd\n",
    "import math\n",
    "from sklearn.metrics import multilabel_confusion_matrix"
   ]
  },
  {
   "cell_type": "code",
   "execution_count": 2,
   "id": "1775d26d",
   "metadata": {
    "scrolled": true
   },
   "outputs": [],
   "source": [
    "def lerDatParaPanda(caminhoArquivo):\n",
    "    df = pd.read_csv(caminhoArquivo, \n",
    "                 sep=\",\", comment='@', header=0)\n",
    "    return df"
   ]
  },
  {
   "cell_type": "code",
   "execution_count": 3,
   "id": "59ebd8a3",
   "metadata": {},
   "outputs": [],
   "source": [
    "class Node:\n",
    "    def __init__ (self, value):\n",
    "        self.esquerda = None\n",
    "        self.data = value\n",
    "        self.direita = None"
   ]
  },
  {
   "cell_type": "code",
   "execution_count": 4,
   "id": "d7dfa109",
   "metadata": {},
   "outputs": [],
   "source": [
    "class KDtree:\n",
    "    def constroiKDtree(self, df, profundidade): # Na primeira execucao profundiade = 0\n",
    "        maxProfundidade = len(df.columns) - 1\n",
    "        quantidadeNodes = len(df)\n",
    "        if profundidade > maxProfundidade:\n",
    "            profundidade = 0\n",
    "        if (df.columns[profundidade] == 'Class'): #Ignora a coluna \"Class\", pois a mesma é a que buscamos\n",
    "            profundidade = profundidade + 1\n",
    "            if profundidade > maxProfundidade:\n",
    "                profundidade = 0 \n",
    "        #Caso base\n",
    "        if quantidadeNodes == 0:\n",
    "            return None\n",
    "        if quantidadeNodes == 1:\n",
    "            return Node(df)\n",
    "        else:\n",
    "            #Media\n",
    "            if quantidadeNodes % 2 == 0 :\n",
    "                mediana = int(quantidadeNodes / 2)\n",
    "            else :\n",
    "                mediana = int((quantidadeNodes / 2) + 0.5)\n",
    "            dfEmOrdemDeProfundidade = df.sort_values(df.columns[profundidade])\n",
    "            Ldata = Node(dfEmOrdemDeProfundidade.iloc[mediana])        \n",
    "            Ldata.esquerda = self.constroiKDtree(dfEmOrdemDeProfundidade.iloc[:mediana], profundidade + 1)\n",
    "            Ldata.direita = self.constroiKDtree(dfEmOrdemDeProfundidade.iloc[(mediana+1):],  profundidade + 1)\n",
    "            return Ldata"
   ]
  },
  {
   "cell_type": "code",
   "execution_count": 5,
   "id": "224fed25",
   "metadata": {},
   "outputs": [],
   "source": [
    "class xNN:\n",
    "    def mainNN(self, df, vizinhos):\n",
    "        df70 = df.sample(frac = 0.7) # Pega 70% dos dados aleatoriamente\n",
    "        df30 = df.sample(frac = 0.3) # Pega 30% dos dados aleatoriamente\n",
    "        tree = KDtree()\n",
    "        arvoreKd = tree.constroiKDtree(df70, 0)\n",
    "        proximos = [float('inf')] * vizinhos\n",
    "        proximosIndex = [None] * vizinhos\n",
    "        \n",
    "        df30SemClass = df30.drop(columns=['Class']).to_numpy() # 30% sem a coluna \"Class\"\n",
    "        df30SemClassIndex = df30.drop(columns=['Class']).index.to_numpy()\n",
    "        df30['NovaClass'] = 0\n",
    "        quantidadeTotalDeTestes = len(df30SemClass)\n",
    "        indexClass = df70.columns.get_loc('Class')\n",
    "\n",
    "        quantidadeTestesCorretos = 0\n",
    "        quantidadeColunas = len(df70.columns)\n",
    "        for ponto, index in zip(df30SemClass, df30SemClassIndex):\n",
    "            distancia, Nvizinhos = self.encontraNN(arvoreKd, proximos, proximosIndex, ponto)\n",
    "            Nvizinhos = np.array(Nvizinhos)\n",
    "\n",
    "            Nvizinhos = Nvizinhos.reshape(vizinhos, quantidadeColunas)\n",
    "            classesVerdadeiras = Nvizinhos[:, indexClass] \n",
    "\n",
    "            (unique, counts) = np.unique(classesVerdadeiras, return_counts=True)\n",
    "            frequencies = np.asarray((unique, counts)).T\n",
    "\n",
    "            rowClassMaxEncontrada = np.argmax(np.max(frequencies, axis=1))\n",
    "            classeNova = frequencies[rowClassMaxEncontrada][0]\n",
    "            df30.at[index, 'NovaClass'] = classeNova\n",
    "        \n",
    "        analise = analisaResultados();\n",
    "        analise.mainAnalise(df30)\n",
    "        return 0\n",
    "\n",
    "    def encontraNN(self, node, proximos, proximosIndex, ponto):\n",
    "        \n",
    "        if (node == None): #Checa se node esta vazio, retorna caso true\n",
    "            return\n",
    "        elif (self.checkNodeIsRoot(node) and self.checkDivisorMenorQueProximos(ponto, node, proximos)):\n",
    "            self.atualizaProximos(ponto, node, proximos, proximosIndex)\n",
    "            return\n",
    "        elif(not self.checkNodeIsRoot(node)):\n",
    "            self.encontraNN(node.esquerda, proximos, proximosIndex, ponto)\n",
    "            self.encontraNN(node.direita, proximos, proximosIndex, ponto)\n",
    "        return ([proximos, proximosIndex])\n",
    "\n",
    "    def checkNodeIsRoot(self, node):\n",
    "        if (node.esquerda == None and node.direita == None and all(node.data) != None):\n",
    "            return True\n",
    "        else:\n",
    "            return False\n",
    "\n",
    "    def atualizaProximos(self, ponto, node, proximos, proximosIndex):\n",
    "        nodeSemClass = node.data.drop(columns=['Class'])\n",
    "        nodeSeries = nodeSemClass.to_numpy()\n",
    "        distancia = self.distEuclidiana(ponto, nodeSeries)\n",
    "        \n",
    "        max_value = max(proximos)\n",
    "        max_index = proximos.index(max_value)\n",
    "\n",
    "        proximos.pop(max_index);\n",
    "        proximos.insert(max_index, distancia)\n",
    "        proximosIndex[max_index] = node.data.to_numpy()\n",
    "        \n",
    "    def checkDivisorMaiorQueProximos(self, ponto, divisor, proximos):\n",
    "        divisorSemClass = divisor.data.drop(columns=['Class'])\n",
    "        divisorSeries = divisorSemClass.to_numpy()\n",
    "        distancia = self.distEuclidiana(ponto, divisorSeries)\n",
    "        if (distancia == 0):\n",
    "            return False\n",
    "        if (all(distancia >= i  for i in proximos)):\n",
    "            return True\n",
    "        else:\n",
    "            return False\n",
    "\n",
    "    def checkDivisorMenorQueProximos(self, ponto, divisor, proximos):\n",
    "        divisorSemClass = divisor.data.drop(columns=['Class'])\n",
    "        divisorSeries = divisorSemClass.to_numpy()\n",
    "        distancia = self.distEuclidiana(ponto, divisorSeries)\n",
    "        if (distancia == 0):\n",
    "            return False\n",
    "        if (any(distancia < i for i in proximos)):\n",
    "            return True\n",
    "        else:\n",
    "            return False\n",
    "\n",
    "    def distEuclidiana(self, num1, num2):\n",
    "        sum = 0;\n",
    "        if (len(num1) > 0 and len(num2) > 0):\n",
    "            num1.shape = len(num1)\n",
    "            num2.shape = len(num1)\n",
    "            for i in range(len(num1)):\n",
    "               d = num1[i] - num2[i]\n",
    "               sum = sum + d * d\n",
    "            return math.sqrt(sum)\n",
    "        else:\n",
    "            return 0\n",
    "        \n",
    "    #Debug\n",
    "    def mainPrintNotRoots(self, kdTree):\n",
    "        self.printNotRoots(kdTree)\n",
    "    def printNotRoots(self, node):\n",
    "        if (node == None):\n",
    "            return\n",
    "        if (self.checkNodeIsRoot(node)):\n",
    "            print(node.data)\n",
    "        else:\n",
    "            self.printNotRoots(node.esquerda)\n",
    "            self.printNotRoots(node.direita)"
   ]
  },
  {
   "cell_type": "code",
   "execution_count": 6,
   "id": "959f61d7",
   "metadata": {},
   "outputs": [],
   "source": [
    "class analisaResultados:\n",
    "    def mainAnalise(self, df):\n",
    "        totalAnalisado = len(df)\n",
    "        resultados = df.loc[df['Class'] == df['NovaClass']].groupby('Class').size().sum()\n",
    "\n",
    "        dfC = df[['Class', 'NovaClass']]\n",
    "        dfLabels = dfC['Class'].unique()\n",
    "        res = multilabel_confusion_matrix(dfC[['Class']].to_numpy(), dfC[['NovaClass']].to_numpy(), labels=dfLabels).ravel()\n",
    "        labelsQtd = len(dfLabels)\n",
    "        resQtd = len(res)\n",
    "        if (resQtd > 4):\n",
    "            newShapeY = int (resQtd / labelsQtd)\n",
    "            newShapeX = labelsQtd\n",
    "            res = res.reshape(newShapeX, newShapeY)\n",
    "            res = res.sum(axis=0)\n",
    "        (tn, fp, fn, tp) = res\n",
    "        #Matriz de confusao para encontrar os TP, FP\n",
    "        print(\"Precisão: \", self.precisao(tp, fp) , \"%\")\n",
    "        print(\"Revocação: \", self.revocacao(tp, fn), \"%\")\n",
    "        print(\"Acurácia: \", self.acuracia(tp, tn, fp, fn), \"%\")\n",
    "        \n",
    "        return 0\n",
    "    def acuracia(self, tp, tn, fp, fn):\n",
    "        result = ((tp + tn) / (tp + tn + fp+ fn)) * 100\n",
    "        return str(round(result, 2))\n",
    "    def precisao(self, tp, fp):\n",
    "        if (tp == fp and tp == 0):\n",
    "            return 100\n",
    "        result = (tp / (tp + fp)) * 100\n",
    "        return str(round(result, 2))\n",
    "    def revocacao(self, tp, fn):\n",
    "        result = (tp / (tp + fn)) * 100 \n",
    "        return str(round(result, 2))"
   ]
  },
  {
   "cell_type": "code",
   "execution_count": 7,
   "id": "3d3e1452",
   "metadata": {},
   "outputs": [
    {
     "name": "stdout",
     "output_type": "stream",
     "text": [
      "Precisão:  81.25 %\n",
      "Revocação:  81.25 %\n",
      "Acurácia:  81.25 %\n"
     ]
    }
   ],
   "source": [
    "df1 = lerDatParaPanda('data/appendicitis.dat')\n",
    "df1 = df1.astype(np.float64)\n",
    "xNNPrincipal = xNN()\n",
    "result = xNNPrincipal.mainNN(df1, 10)"
   ]
  },
  {
   "cell_type": "code",
   "execution_count": 8,
   "id": "96d8970c",
   "metadata": {},
   "outputs": [
    {
     "name": "stdout",
     "output_type": "stream",
     "text": [
      "Precisão:  52.2 %\n",
      "Revocação:  52.2 %\n",
      "Acurácia:  52.2 %\n"
     ]
    }
   ],
   "source": [
    "df2= lerDatParaPanda('data/banana.dat')\n",
    "df2 = df2.sample(frac = 0.2)\n",
    "df2= df2.astype(np.float64)\n",
    "result = xNNPrincipal.mainNN(df2, 10)"
   ]
  },
  {
   "cell_type": "code",
   "execution_count": 9,
   "id": "047088d5",
   "metadata": {},
   "outputs": [
    {
     "name": "stdout",
     "output_type": "stream",
     "text": [
      "Precisão:  62.5 %\n",
      "Revocação:  62.5 %\n",
      "Acurácia:  62.5 %\n"
     ]
    }
   ],
   "source": [
    "df3 = lerDatParaPanda('data/bupa.dat')\n",
    "df3 = df3.astype(np.float64)\n",
    "result = xNNPrincipal.mainNN(df3, 10)"
   ]
  },
  {
   "cell_type": "code",
   "execution_count": 10,
   "id": "2688117f",
   "metadata": {},
   "outputs": [
    {
     "name": "stdout",
     "output_type": "stream",
     "text": [
      "Precisão:  35.23 %\n",
      "Revocação:  35.23 %\n",
      "Acurácia:  56.82 %\n"
     ]
    }
   ],
   "source": [
    "df4 = lerDatParaPanda('data/contraceptive.dat')\n",
    "df4 = df4.sample(frac = 0.2)\n",
    "df4 = df4.astype(np.float64)\n",
    "result = xNNPrincipal.mainNN(df4, 10)"
   ]
  },
  {
   "cell_type": "code",
   "execution_count": 11,
   "id": "b28868c1",
   "metadata": {},
   "outputs": [
    {
     "name": "stdout",
     "output_type": "stream",
     "text": [
      "Precisão:  18.75 %\n",
      "Revocação:  18.75 %\n",
      "Acurácia:  72.92 %\n"
     ]
    }
   ],
   "source": [
    "df5 = lerDatParaPanda('data/glass.dat')\n",
    "df5 = df5.astype(np.float64)\n",
    "result = xNNPrincipal.mainNN(df5, 10)"
   ]
  },
  {
   "cell_type": "code",
   "execution_count": 12,
   "id": "4eb574f7",
   "metadata": {},
   "outputs": [
    {
     "name": "stdout",
     "output_type": "stream",
     "text": [
      "Precisão:  90.24 %\n",
      "Revocação:  90.24 %\n",
      "Acurácia:  96.1 %\n"
     ]
    }
   ],
   "source": [
    "df6 = lerDatParaPanda('data/page-blocks.dat')\n",
    "df6 = df6.sample(frac = 0.2)\n",
    "df6 = df6.astype(np.float64)\n",
    "result = xNNPrincipal.mainNN(df6, 10)"
   ]
  },
  {
   "cell_type": "code",
   "execution_count": 13,
   "id": "e0dfa623",
   "metadata": {},
   "outputs": [
    {
     "name": "stdout",
     "output_type": "stream",
     "text": [
      "Precisão:  70.06 %\n",
      "Revocação:  70.06 %\n",
      "Acurácia:  70.06 %\n"
     ]
    }
   ],
   "source": [
    "df7 = lerDatParaPanda('data/phoneme.dat')\n",
    "df7 = df7.sample(frac = 0.2) #Diminuindo o tamanho dessa base de dados\n",
    "df7 = df7.astype(np.float64)\n",
    "result = xNNPrincipal.mainNN(df7, 10)"
   ]
  },
  {
   "cell_type": "code",
   "execution_count": 14,
   "id": "e6ad27f0",
   "metadata": {},
   "outputs": [
    {
     "name": "stdout",
     "output_type": "stream",
     "text": [
      "Precisão:  81.03 %\n",
      "Revocação:  81.03 %\n",
      "Acurácia:  92.41 %\n"
     ]
    }
   ],
   "source": [
    "df8 = lerDatParaPanda('data/shuttle.dat')\n",
    "df8 = df8.sample(frac = 0.01) #Diminuindo o tamanho dessa base de dados para +- 500 exemplos\n",
    "df8 = df8.astype(np.float64)\n",
    "result = xNNPrincipal.mainNN(df8, 10)"
   ]
  },
  {
   "cell_type": "code",
   "execution_count": 15,
   "id": "48aed621",
   "metadata": {},
   "outputs": [
    {
     "name": "stdout",
     "output_type": "stream",
     "text": [
      "Precisão:  31.11 %\n",
      "Revocação:  31.11 %\n",
      "Acurácia:  54.07 %\n"
     ]
    }
   ],
   "source": [
    "df9 = lerDatParaPanda('data/tae.dat')\n",
    "df9 = df9.astype(np.float64)\n",
    "result = xNNPrincipal.mainNN(df9, 10)"
   ]
  },
  {
   "cell_type": "code",
   "execution_count": 16,
   "id": "dc8b62d3",
   "metadata": {},
   "outputs": [
    {
     "name": "stdout",
     "output_type": "stream",
     "text": [
      "Precisão:  67.42 %\n",
      "Revocação:  67.42 %\n",
      "Acurácia:  67.42 %\n"
     ]
    }
   ],
   "source": [
    "df10 = lerDatParaPanda('data/titanic.dat')\n",
    "df10 = df10.sample(frac = 0.2)\n",
    "df10 = df10.astype(np.float64)\n",
    "result = xNNPrincipal.mainNN(df10, 10)"
   ]
  }
 ],
 "metadata": {
  "kernelspec": {
   "display_name": "Python 3 (ipykernel)",
   "language": "python",
   "name": "python3"
  },
  "language_info": {
   "codemirror_mode": {
    "name": "ipython",
    "version": 3
   },
   "file_extension": ".py",
   "mimetype": "text/x-python",
   "name": "python",
   "nbconvert_exporter": "python",
   "pygments_lexer": "ipython3",
   "version": "3.9.7"
  }
 },
 "nbformat": 4,
 "nbformat_minor": 5
}
